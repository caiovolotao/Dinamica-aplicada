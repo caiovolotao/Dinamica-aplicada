{
  "nbformat": 4,
  "nbformat_minor": 0,
  "metadata": {
    "colab": {
      "provenance": [],
      "include_colab_link": true
    },
    "kernelspec": {
      "name": "python3",
      "display_name": "Python 3"
    },
    "language_info": {
      "name": "python"
    }
  },
  "cells": [
    {
      "cell_type": "markdown",
      "metadata": {
        "id": "view-in-github",
        "colab_type": "text"
      },
      "source": [
        "<a href=\"https://colab.research.google.com/github/caiovolotao/Dinamica-das-maquinas/blob/main/TRABALHO_PRONTO.ipynb\" target=\"_parent\"><img src=\"https://colab.research.google.com/assets/colab-badge.svg\" alt=\"Open In Colab\"/></a>"
      ]
    },
    {
      "cell_type": "code",
      "execution_count": null,
      "metadata": {
        "id": "hnu41L1WS2hQ"
      },
      "outputs": [],
      "source": [
        "import sympy as sy\n",
        "import sympy.physics.mechanics as me\n"
      ]
    },
    {
      "cell_type": "code",
      "source": [
        "q1,q2,q3,q4, q5 = me.dynamicsymbols('q1 q2 q3 q4 q5') \n",
        "L, L1, L2, L3, L4 = sy.symbols('L L1 L2 L3 L4') \n",
        "t = me.dynamicsymbols._t"
      ],
      "metadata": {
        "id": "VOsS5a0Rbizs"
      },
      "execution_count": null,
      "outputs": []
    },
    {
      "cell_type": "code",
      "source": [
        "N = me.ReferenceFrame ('N') #Ref. Inercial\n",
        "A = me.ReferenceFrame ('A')\n",
        "B = me.ReferenceFrame ('B')\n",
        "C = me.ReferenceFrame ('C')\n",
        "D = me.ReferenceFrame ('D')\n",
        "\n"
      ],
      "metadata": {
        "id": "dItzcaM8b52e"
      },
      "execution_count": null,
      "outputs": []
    },
    {
      "cell_type": "code",
      "source": [
        "#Orientacoes \n",
        "\n",
        "A.orient(N, 'Axis',[q1,N.z])\n",
        "B.orient(A, 'Axis', [q2,A.y])\n",
        "C.orient(B, 'Axis', [q3, B.x])\n",
        "D.orient(C, 'Axis', [q4, C.y])\n"
      ],
      "metadata": {
        "id": "JPs4MBFrce2g"
      },
      "execution_count": null,
      "outputs": []
    },
    {
      "cell_type": "code",
      "source": [
        "A.ang_vel_in(N)"
      ],
      "metadata": {
        "colab": {
          "base_uri": "https://localhost:8080/",
          "height": 52
        },
        "id": "e36GCXh_p4gz",
        "outputId": "af3b402c-ed3e-48e5-e27f-49b297756406"
      },
      "execution_count": null,
      "outputs": [
        {
          "output_type": "execute_result",
          "data": {
            "text/plain": [
              "Derivative(q1(t), t)*N.z"
            ],
            "text/latex": "$\\displaystyle \\frac{d}{d t} q_{1}{\\left(t \\right)}\\mathbf{\\hat{n}_z}$"
          },
          "metadata": {},
          "execution_count": 110
        }
      ]
    },
    {
      "cell_type": "code",
      "source": [
        "A.ang_acc_in(N)"
      ],
      "metadata": {
        "colab": {
          "base_uri": "https://localhost:8080/",
          "height": 54
        },
        "id": "JJBvFR58p7ch",
        "outputId": "21efe269-1d6e-4c2d-f2df-a0d9d638b8d2"
      },
      "execution_count": null,
      "outputs": [
        {
          "output_type": "execute_result",
          "data": {
            "text/plain": [
              "Derivative(q1(t), (t, 2))*N.z"
            ],
            "text/latex": "$\\displaystyle \\frac{d^{2}}{d t^{2}} q_{1}{\\left(t \\right)}\\mathbf{\\hat{n}_z}$"
          },
          "metadata": {},
          "execution_count": 111
        }
      ]
    },
    {
      "cell_type": "code",
      "source": [
        "B.ang_vel_in(N)"
      ],
      "metadata": {
        "colab": {
          "base_uri": "https://localhost:8080/",
          "height": 52
        },
        "id": "Wfe5x70bp-jH",
        "outputId": "daf16567-9bf9-4998-f721-4ba6191e3fae"
      },
      "execution_count": null,
      "outputs": [
        {
          "output_type": "execute_result",
          "data": {
            "text/plain": [
              "Derivative(q1(t), t)*N.z + Derivative(q2(t), t)*A.y"
            ],
            "text/latex": "$\\displaystyle \\frac{d}{d t} q_{2}{\\left(t \\right)}\\mathbf{\\hat{a}_y} + \\frac{d}{d t} q_{1}{\\left(t \\right)}\\mathbf{\\hat{n}_z}$"
          },
          "metadata": {},
          "execution_count": 112
        }
      ]
    },
    {
      "cell_type": "code",
      "source": [
        "B.ang_acc_in(N)"
      ],
      "metadata": {
        "colab": {
          "base_uri": "https://localhost:8080/",
          "height": 54
        },
        "id": "TpOMUWCjqBjP",
        "outputId": "ab4b5b91-cf4d-4a3f-8fe1-07d3086c769d"
      },
      "execution_count": null,
      "outputs": [
        {
          "output_type": "execute_result",
          "data": {
            "text/plain": [
              "Derivative(q1(t), (t, 2))*N.z - Derivative(q1(t), t)*Derivative(q2(t), t)*A.x + Derivative(q2(t), (t, 2))*A.y"
            ],
            "text/latex": "$\\displaystyle -  \\frac{d}{d t} q_{1}{\\left(t \\right)} \\frac{d}{d t} q_{2}{\\left(t \\right)}\\mathbf{\\hat{a}_x} + \\frac{d^{2}}{d t^{2}} q_{2}{\\left(t \\right)}\\mathbf{\\hat{a}_y} + \\frac{d^{2}}{d t^{2}} q_{1}{\\left(t \\right)}\\mathbf{\\hat{n}_z}$"
          },
          "metadata": {},
          "execution_count": 113
        }
      ]
    },
    {
      "cell_type": "code",
      "source": [
        "C.ang_vel_in(N)"
      ],
      "metadata": {
        "colab": {
          "base_uri": "https://localhost:8080/",
          "height": 52
        },
        "id": "lpZhBrzFqC9E",
        "outputId": "9c2f82e4-38f3-41db-9077-ba3a1d31c294"
      },
      "execution_count": null,
      "outputs": [
        {
          "output_type": "execute_result",
          "data": {
            "text/plain": [
              "Derivative(q1(t), t)*N.z + Derivative(q2(t), t)*A.y + Derivative(q3(t), t)*B.x"
            ],
            "text/latex": "$\\displaystyle \\frac{d}{d t} q_{3}{\\left(t \\right)}\\mathbf{\\hat{b}_x} + \\frac{d}{d t} q_{2}{\\left(t \\right)}\\mathbf{\\hat{a}_y} + \\frac{d}{d t} q_{1}{\\left(t \\right)}\\mathbf{\\hat{n}_z}$"
          },
          "metadata": {},
          "execution_count": 114
        }
      ]
    },
    {
      "cell_type": "code",
      "source": [
        "C.ang_acc_in(N)"
      ],
      "metadata": {
        "colab": {
          "base_uri": "https://localhost:8080/",
          "height": 54
        },
        "id": "82xSBymwqCwu",
        "outputId": "dde47008-4773-4912-a5aa-757b01315f50"
      },
      "execution_count": null,
      "outputs": [
        {
          "output_type": "execute_result",
          "data": {
            "text/plain": [
              "Derivative(q1(t), (t, 2))*N.z - Derivative(q1(t), t)*Derivative(q2(t), t)*A.x + Derivative(q2(t), (t, 2))*A.y + Derivative(q3(t), (t, 2))*B.x + cos(q2(t))*Derivative(q1(t), t)*Derivative(q3(t), t)*B.y - Derivative(q2(t), t)*Derivative(q3(t), t)*B.z"
            ],
            "text/latex": "$\\displaystyle \\frac{d^{2}}{d t^{2}} q_{3}{\\left(t \\right)}\\mathbf{\\hat{b}_x} + \\cos{\\left(q_{2}{\\left(t \\right)} \\right)} \\frac{d}{d t} q_{1}{\\left(t \\right)} \\frac{d}{d t} q_{3}{\\left(t \\right)}\\mathbf{\\hat{b}_y} -  \\frac{d}{d t} q_{2}{\\left(t \\right)} \\frac{d}{d t} q_{3}{\\left(t \\right)}\\mathbf{\\hat{b}_z} -  \\frac{d}{d t} q_{1}{\\left(t \\right)} \\frac{d}{d t} q_{2}{\\left(t \\right)}\\mathbf{\\hat{a}_x} + \\frac{d^{2}}{d t^{2}} q_{2}{\\left(t \\right)}\\mathbf{\\hat{a}_y} + \\frac{d^{2}}{d t^{2}} q_{1}{\\left(t \\right)}\\mathbf{\\hat{n}_z}$"
          },
          "metadata": {},
          "execution_count": 115
        }
      ]
    },
    {
      "cell_type": "code",
      "source": [
        "D.ang_vel_in(N)"
      ],
      "metadata": {
        "colab": {
          "base_uri": "https://localhost:8080/",
          "height": 52
        },
        "id": "7kd1MSbqqCsr",
        "outputId": "004735df-e2d3-4e26-9819-4a24208df679"
      },
      "execution_count": null,
      "outputs": [
        {
          "output_type": "execute_result",
          "data": {
            "text/plain": [
              "Derivative(q1(t), t)*N.z + Derivative(q2(t), t)*A.y + Derivative(q3(t), t)*B.x + Derivative(q4(t), t)*C.y"
            ],
            "text/latex": "$\\displaystyle \\frac{d}{d t} q_{4}{\\left(t \\right)}\\mathbf{\\hat{c}_y} + \\frac{d}{d t} q_{3}{\\left(t \\right)}\\mathbf{\\hat{b}_x} + \\frac{d}{d t} q_{2}{\\left(t \\right)}\\mathbf{\\hat{a}_y} + \\frac{d}{d t} q_{1}{\\left(t \\right)}\\mathbf{\\hat{n}_z}$"
          },
          "metadata": {},
          "execution_count": 116
        }
      ]
    },
    {
      "cell_type": "code",
      "source": [
        "D.ang_acc_in(N)"
      ],
      "metadata": {
        "colab": {
          "base_uri": "https://localhost:8080/",
          "height": 95
        },
        "id": "FshlT8YmqCmz",
        "outputId": "9d58442e-fb4c-4c8d-fadc-dcad1758291c"
      },
      "execution_count": null,
      "outputs": [
        {
          "output_type": "execute_result",
          "data": {
            "text/plain": [
              "Derivative(q1(t), (t, 2))*N.z - Derivative(q1(t), t)*Derivative(q2(t), t)*A.x + Derivative(q2(t), (t, 2))*A.y + Derivative(q3(t), (t, 2))*B.x + cos(q2(t))*Derivative(q1(t), t)*Derivative(q3(t), t)*B.y - Derivative(q2(t), t)*Derivative(q3(t), t)*B.z - (-sin(q3(t))*Derivative(q2(t), t) + cos(q2(t))*cos(q3(t))*Derivative(q1(t), t))*Derivative(q4(t), t)*C.x + Derivative(q4(t), (t, 2))*C.y + (-sin(q2(t))*Derivative(q1(t), t) + Derivative(q3(t), t))*Derivative(q4(t), t)*C.z"
            ],
            "text/latex": "$\\displaystyle -  \\left(- \\sin{\\left(q_{3}{\\left(t \\right)} \\right)} \\frac{d}{d t} q_{2}{\\left(t \\right)} + \\cos{\\left(q_{2}{\\left(t \\right)} \\right)} \\cos{\\left(q_{3}{\\left(t \\right)} \\right)} \\frac{d}{d t} q_{1}{\\left(t \\right)}\\right) \\frac{d}{d t} q_{4}{\\left(t \\right)}\\mathbf{\\hat{c}_x} + \\frac{d^{2}}{d t^{2}} q_{4}{\\left(t \\right)}\\mathbf{\\hat{c}_y} + \\left(- \\sin{\\left(q_{2}{\\left(t \\right)} \\right)} \\frac{d}{d t} q_{1}{\\left(t \\right)} + \\frac{d}{d t} q_{3}{\\left(t \\right)}\\right) \\frac{d}{d t} q_{4}{\\left(t \\right)}\\mathbf{\\hat{c}_z} + \\frac{d^{2}}{d t^{2}} q_{3}{\\left(t \\right)}\\mathbf{\\hat{b}_x} + \\cos{\\left(q_{2}{\\left(t \\right)} \\right)} \\frac{d}{d t} q_{1}{\\left(t \\right)} \\frac{d}{d t} q_{3}{\\left(t \\right)}\\mathbf{\\hat{b}_y} -  \\frac{d}{d t} q_{2}{\\left(t \\right)} \\frac{d}{d t} q_{3}{\\left(t \\right)}\\mathbf{\\hat{b}_z} -  \\frac{d}{d t} q_{1}{\\left(t \\right)} \\frac{d}{d t} q_{2}{\\left(t \\right)}\\mathbf{\\hat{a}_x} + \\frac{d^{2}}{d t^{2}} q_{2}{\\left(t \\right)}\\mathbf{\\hat{a}_y} + \\frac{d^{2}}{d t^{2}} q_{1}{\\left(t \\right)}\\mathbf{\\hat{n}_z}$"
          },
          "metadata": {},
          "execution_count": 117
        }
      ]
    },
    {
      "cell_type": "code",
      "source": [
        "#Analise de posição\n",
        "\n",
        "O = me.Point('O')\n",
        "O.set_vel(A,0)"
      ],
      "metadata": {
        "id": "FI3RUFkUeKHb"
      },
      "execution_count": null,
      "outputs": []
    },
    {
      "cell_type": "code",
      "source": [
        "P = me.Point ('P')\n",
        "pRO = L1*A.z \n",
        "P.set_pos(O, pRO)\n",
        "P.set_vel(N,P.pos_from(O).dt(N))\n",
        "P.vel(N)"
      ],
      "metadata": {
        "colab": {
          "base_uri": "https://localhost:8080/",
          "height": 37
        },
        "id": "rS77Ox0mgDyb",
        "outputId": "31a00c79-79ce-45e7-e330-322b610ef920"
      },
      "execution_count": null,
      "outputs": [
        {
          "output_type": "execute_result",
          "data": {
            "text/plain": [
              "0"
            ],
            "text/latex": "$\\displaystyle 0$"
          },
          "metadata": {},
          "execution_count": 119
        }
      ]
    },
    {
      "cell_type": "code",
      "source": [
        "P.acc(N)"
      ],
      "metadata": {
        "colab": {
          "base_uri": "https://localhost:8080/",
          "height": 37
        },
        "id": "qzYhTz80naBH",
        "outputId": "49d0c2ba-7ef1-4283-883b-1877e27e0dd9"
      },
      "execution_count": null,
      "outputs": [
        {
          "output_type": "execute_result",
          "data": {
            "text/plain": [
              "0"
            ],
            "text/latex": "$\\displaystyle 0$"
          },
          "metadata": {},
          "execution_count": 120
        }
      ]
    },
    {
      "cell_type": "code",
      "source": [
        "P2 = me.Point ('P2')\n",
        "pP2_P = L1*A.x + L2*B.y\n",
        "P2.set_pos(P, pP2_P)\n",
        "P2.set_vel(N,P2.pos_from(O).dt(N))\n",
        "P2.vel(N)"
      ],
      "metadata": {
        "colab": {
          "base_uri": "https://localhost:8080/",
          "height": 52
        },
        "id": "AwwJvo06gURK",
        "outputId": "d8a6c64c-aab6-4022-b914-3d3ff140182d"
      },
      "execution_count": null,
      "outputs": [
        {
          "output_type": "execute_result",
          "data": {
            "text/plain": [
              "L1*Derivative(q1(t), t)*A.y - L2*cos(q2(t))*Derivative(q1(t), t)*B.x - L2*sin(q2(t))*Derivative(q1(t), t)*B.z"
            ],
            "text/latex": "$\\displaystyle L_{1} \\frac{d}{d t} q_{1}{\\left(t \\right)}\\mathbf{\\hat{a}_y} -  L_{2} \\cos{\\left(q_{2}{\\left(t \\right)} \\right)} \\frac{d}{d t} q_{1}{\\left(t \\right)}\\mathbf{\\hat{b}_x} -  L_{2} \\sin{\\left(q_{2}{\\left(t \\right)} \\right)} \\frac{d}{d t} q_{1}{\\left(t \\right)}\\mathbf{\\hat{b}_z}$"
          },
          "metadata": {},
          "execution_count": 121
        }
      ]
    },
    {
      "cell_type": "code",
      "source": [
        "P2.acc(N)"
      ],
      "metadata": {
        "colab": {
          "base_uri": "https://localhost:8080/",
          "height": 98
        },
        "id": "kjg4hnudnQIP",
        "outputId": "dc7a7842-b6d2-4bda-c404-1ce9df5b91aa"
      },
      "execution_count": null,
      "outputs": [
        {
          "output_type": "execute_result",
          "data": {
            "text/plain": [
              "- L1*Derivative(q1(t), t)**2*A.x + L1*Derivative(q1(t), (t, 2))*A.y - L2*cos(q2(t))*Derivative(q1(t), (t, 2))*B.x + (-L2*sin(q2(t))**2*Derivative(q1(t), t)**2 - L2*cos(q2(t))**2*Derivative(q1(t), t)**2)*B.y - L2*sin(q2(t))*Derivative(q1(t), (t, 2))*B.z"
            ],
            "text/latex": "$\\displaystyle -  L_{1} \\left(\\frac{d}{d t} q_{1}{\\left(t \\right)}\\right)^{2}\\mathbf{\\hat{a}_x} + L_{1} \\frac{d^{2}}{d t^{2}} q_{1}{\\left(t \\right)}\\mathbf{\\hat{a}_y} -  L_{2} \\cos{\\left(q_{2}{\\left(t \\right)} \\right)} \\frac{d^{2}}{d t^{2}} q_{1}{\\left(t \\right)}\\mathbf{\\hat{b}_x} + (- L_{2} \\sin^{2}{\\left(q_{2}{\\left(t \\right)} \\right)} \\left(\\frac{d}{d t} q_{1}{\\left(t \\right)}\\right)^{2} - L_{2} \\cos^{2}{\\left(q_{2}{\\left(t \\right)} \\right)} \\left(\\frac{d}{d t} q_{1}{\\left(t \\right)}\\right)^{2})\\mathbf{\\hat{b}_y} -  L_{2} \\sin{\\left(q_{2}{\\left(t \\right)} \\right)} \\frac{d^{2}}{d t^{2}} q_{1}{\\left(t \\right)}\\mathbf{\\hat{b}_z}$"
          },
          "metadata": {},
          "execution_count": 122
        }
      ]
    },
    {
      "cell_type": "code",
      "source": [
        "P3 = me.Point ('P3')\n",
        "pP3_P = L1*A.x + L2*B.y + L3*C.x\n",
        "P3.set_pos(P, pP3_P)\n",
        "P3.set_vel(N,P3.pos_from(O).dt(N))\n",
        "P3.vel(N)"
      ],
      "metadata": {
        "colab": {
          "base_uri": "https://localhost:8080/",
          "height": 98
        },
        "id": "RL_IM4qAgl1_",
        "outputId": "87c47299-1b5c-4e4a-b5cb-36aa34028410"
      },
      "execution_count": null,
      "outputs": [
        {
          "output_type": "execute_result",
          "data": {
            "text/plain": [
              "L1*Derivative(q1(t), t)*A.y - L2*cos(q2(t))*Derivative(q1(t), t)*B.x - L2*sin(q2(t))*Derivative(q1(t), t)*B.z + L3*(-sin(q3(t))*Derivative(q2(t), t) + cos(q2(t))*cos(q3(t))*Derivative(q1(t), t))*C.y - L3*(sin(q3(t))*cos(q2(t))*Derivative(q1(t), t) + cos(q3(t))*Derivative(q2(t), t))*C.z"
            ],
            "text/latex": "$\\displaystyle L_{1} \\frac{d}{d t} q_{1}{\\left(t \\right)}\\mathbf{\\hat{a}_y} -  L_{2} \\cos{\\left(q_{2}{\\left(t \\right)} \\right)} \\frac{d}{d t} q_{1}{\\left(t \\right)}\\mathbf{\\hat{b}_x} -  L_{2} \\sin{\\left(q_{2}{\\left(t \\right)} \\right)} \\frac{d}{d t} q_{1}{\\left(t \\right)}\\mathbf{\\hat{b}_z} + L_{3} \\left(- \\sin{\\left(q_{3}{\\left(t \\right)} \\right)} \\frac{d}{d t} q_{2}{\\left(t \\right)} + \\cos{\\left(q_{2}{\\left(t \\right)} \\right)} \\cos{\\left(q_{3}{\\left(t \\right)} \\right)} \\frac{d}{d t} q_{1}{\\left(t \\right)}\\right)\\mathbf{\\hat{c}_y} -  L_{3} \\left(\\sin{\\left(q_{3}{\\left(t \\right)} \\right)} \\cos{\\left(q_{2}{\\left(t \\right)} \\right)} \\frac{d}{d t} q_{1}{\\left(t \\right)} + \\cos{\\left(q_{3}{\\left(t \\right)} \\right)} \\frac{d}{d t} q_{2}{\\left(t \\right)}\\right)\\mathbf{\\hat{c}_z}$"
          },
          "metadata": {},
          "execution_count": 123
        }
      ]
    },
    {
      "cell_type": "code",
      "source": [
        "P3.acc(N)"
      ],
      "metadata": {
        "colab": {
          "base_uri": "https://localhost:8080/",
          "height": 313
        },
        "id": "-AdnF6-QnXOl",
        "outputId": "5aa0386a-8045-4dc3-8fca-544bc1365f19"
      },
      "execution_count": null,
      "outputs": [
        {
          "output_type": "execute_result",
          "data": {
            "text/plain": [
              "- L1*Derivative(q1(t), t)**2*A.x + L1*Derivative(q1(t), (t, 2))*A.y - L2*cos(q2(t))*Derivative(q1(t), (t, 2))*B.x + (-L2*sin(q2(t))**2*Derivative(q1(t), t)**2 - L2*cos(q2(t))**2*Derivative(q1(t), t)**2)*B.y - L2*sin(q2(t))*Derivative(q1(t), (t, 2))*B.z + (-L3*(-sin(q3(t))*Derivative(q2(t), t) + cos(q2(t))*cos(q3(t))*Derivative(q1(t), t))**2 - L3*(sin(q3(t))*cos(q2(t))*Derivative(q1(t), t) + cos(q3(t))*Derivative(q2(t), t))**2)*C.x + (L3*(-sin(q2(t))*Derivative(q1(t), t) + Derivative(q3(t), t))*(sin(q3(t))*cos(q2(t))*Derivative(q1(t), t) + cos(q3(t))*Derivative(q2(t), t)) + L3*(-sin(q2(t))*cos(q3(t))*Derivative(q1(t), t)*Derivative(q2(t), t) - sin(q3(t))*cos(q2(t))*Derivative(q1(t), t)*Derivative(q3(t), t) - sin(q3(t))*Derivative(q2(t), (t, 2)) + cos(q2(t))*cos(q3(t))*Derivative(q1(t), (t, 2)) - cos(q3(t))*Derivative(q2(t), t)*Derivative(q3(t), t)))*C.y + (L3*(-sin(q2(t))*Derivative(q1(t), t) + Derivative(q3(t), t))*(-sin(q3(t))*Derivative(q2(t), t) + cos(q2(t))*cos(q3(t))*Derivative(q1(t), t)) - L3*(-sin(q2(t))*sin(q3(t))*Derivative(q1(t), t)*Derivative(q2(t), t) + sin(q3(t))*cos(q2(t))*Derivative(q1(t), (t, 2)) - sin(q3(t))*Derivative(q2(t), t)*Derivative(q3(t), t) + cos(q2(t))*cos(q3(t))*Derivative(q1(t), t)*Derivative(q3(t), t) + cos(q3(t))*Derivative(q2(t), (t, 2))))*C.z"
            ],
            "text/latex": "$\\displaystyle -  L_{1} \\left(\\frac{d}{d t} q_{1}{\\left(t \\right)}\\right)^{2}\\mathbf{\\hat{a}_x} + L_{1} \\frac{d^{2}}{d t^{2}} q_{1}{\\left(t \\right)}\\mathbf{\\hat{a}_y} -  L_{2} \\cos{\\left(q_{2}{\\left(t \\right)} \\right)} \\frac{d^{2}}{d t^{2}} q_{1}{\\left(t \\right)}\\mathbf{\\hat{b}_x} + (- L_{2} \\sin^{2}{\\left(q_{2}{\\left(t \\right)} \\right)} \\left(\\frac{d}{d t} q_{1}{\\left(t \\right)}\\right)^{2} - L_{2} \\cos^{2}{\\left(q_{2}{\\left(t \\right)} \\right)} \\left(\\frac{d}{d t} q_{1}{\\left(t \\right)}\\right)^{2})\\mathbf{\\hat{b}_y} -  L_{2} \\sin{\\left(q_{2}{\\left(t \\right)} \\right)} \\frac{d^{2}}{d t^{2}} q_{1}{\\left(t \\right)}\\mathbf{\\hat{b}_z} + (- L_{3} \\left(- \\sin{\\left(q_{3}{\\left(t \\right)} \\right)} \\frac{d}{d t} q_{2}{\\left(t \\right)} + \\cos{\\left(q_{2}{\\left(t \\right)} \\right)} \\cos{\\left(q_{3}{\\left(t \\right)} \\right)} \\frac{d}{d t} q_{1}{\\left(t \\right)}\\right)^{2} - L_{3} \\left(\\sin{\\left(q_{3}{\\left(t \\right)} \\right)} \\cos{\\left(q_{2}{\\left(t \\right)} \\right)} \\frac{d}{d t} q_{1}{\\left(t \\right)} + \\cos{\\left(q_{3}{\\left(t \\right)} \\right)} \\frac{d}{d t} q_{2}{\\left(t \\right)}\\right)^{2})\\mathbf{\\hat{c}_x} + (L_{3} \\left(- \\sin{\\left(q_{2}{\\left(t \\right)} \\right)} \\frac{d}{d t} q_{1}{\\left(t \\right)} + \\frac{d}{d t} q_{3}{\\left(t \\right)}\\right) \\left(\\sin{\\left(q_{3}{\\left(t \\right)} \\right)} \\cos{\\left(q_{2}{\\left(t \\right)} \\right)} \\frac{d}{d t} q_{1}{\\left(t \\right)} + \\cos{\\left(q_{3}{\\left(t \\right)} \\right)} \\frac{d}{d t} q_{2}{\\left(t \\right)}\\right) + L_{3} \\left(- \\sin{\\left(q_{2}{\\left(t \\right)} \\right)} \\cos{\\left(q_{3}{\\left(t \\right)} \\right)} \\frac{d}{d t} q_{1}{\\left(t \\right)} \\frac{d}{d t} q_{2}{\\left(t \\right)} - \\sin{\\left(q_{3}{\\left(t \\right)} \\right)} \\cos{\\left(q_{2}{\\left(t \\right)} \\right)} \\frac{d}{d t} q_{1}{\\left(t \\right)} \\frac{d}{d t} q_{3}{\\left(t \\right)} - \\sin{\\left(q_{3}{\\left(t \\right)} \\right)} \\frac{d^{2}}{d t^{2}} q_{2}{\\left(t \\right)} + \\cos{\\left(q_{2}{\\left(t \\right)} \\right)} \\cos{\\left(q_{3}{\\left(t \\right)} \\right)} \\frac{d^{2}}{d t^{2}} q_{1}{\\left(t \\right)} - \\cos{\\left(q_{3}{\\left(t \\right)} \\right)} \\frac{d}{d t} q_{2}{\\left(t \\right)} \\frac{d}{d t} q_{3}{\\left(t \\right)}\\right))\\mathbf{\\hat{c}_y} + (L_{3} \\left(- \\sin{\\left(q_{2}{\\left(t \\right)} \\right)} \\frac{d}{d t} q_{1}{\\left(t \\right)} + \\frac{d}{d t} q_{3}{\\left(t \\right)}\\right) \\left(- \\sin{\\left(q_{3}{\\left(t \\right)} \\right)} \\frac{d}{d t} q_{2}{\\left(t \\right)} + \\cos{\\left(q_{2}{\\left(t \\right)} \\right)} \\cos{\\left(q_{3}{\\left(t \\right)} \\right)} \\frac{d}{d t} q_{1}{\\left(t \\right)}\\right) - L_{3} \\left(- \\sin{\\left(q_{2}{\\left(t \\right)} \\right)} \\sin{\\left(q_{3}{\\left(t \\right)} \\right)} \\frac{d}{d t} q_{1}{\\left(t \\right)} \\frac{d}{d t} q_{2}{\\left(t \\right)} + \\sin{\\left(q_{3}{\\left(t \\right)} \\right)} \\cos{\\left(q_{2}{\\left(t \\right)} \\right)} \\frac{d^{2}}{d t^{2}} q_{1}{\\left(t \\right)} - \\sin{\\left(q_{3}{\\left(t \\right)} \\right)} \\frac{d}{d t} q_{2}{\\left(t \\right)} \\frac{d}{d t} q_{3}{\\left(t \\right)} + \\cos{\\left(q_{2}{\\left(t \\right)} \\right)} \\cos{\\left(q_{3}{\\left(t \\right)} \\right)} \\frac{d}{d t} q_{1}{\\left(t \\right)} \\frac{d}{d t} q_{3}{\\left(t \\right)} + \\cos{\\left(q_{3}{\\left(t \\right)} \\right)} \\frac{d^{2}}{d t^{2}} q_{2}{\\left(t \\right)}\\right))\\mathbf{\\hat{c}_z}$"
          },
          "metadata": {},
          "execution_count": 124
        }
      ]
    },
    {
      "cell_type": "code",
      "source": [
        "P4 = me.Point ('P4')\n",
        "pP4_P = L1*A.x + L2*B.y + L3*C.x + L4*D.x\n",
        "P4.set_pos(P, pP4_P)\n",
        "P4.set_vel(N,P4.pos_from(O).dt(N))\n",
        "P4.vel(N)"
      ],
      "metadata": {
        "colab": {
          "base_uri": "https://localhost:8080/",
          "height": 180
        },
        "id": "m4Juux-HlQOv",
        "outputId": "08f1b64f-f9f2-47d0-c4e8-3bee4927df6d"
      },
      "execution_count": null,
      "outputs": [
        {
          "output_type": "execute_result",
          "data": {
            "text/plain": [
              "L1*Derivative(q1(t), t)*A.y - L2*cos(q2(t))*Derivative(q1(t), t)*B.x - L2*sin(q2(t))*Derivative(q1(t), t)*B.z + L3*(-sin(q3(t))*Derivative(q2(t), t) + cos(q2(t))*cos(q3(t))*Derivative(q1(t), t))*C.y - L3*(sin(q3(t))*cos(q2(t))*Derivative(q1(t), t) + cos(q3(t))*Derivative(q2(t), t))*C.z + L4*((-sin(q2(t))*sin(q4(t)) + cos(q2(t))*cos(q3(t))*cos(q4(t)))*Derivative(q1(t), t) - sin(q3(t))*cos(q4(t))*Derivative(q2(t), t) + sin(q4(t))*Derivative(q3(t), t))*D.y - L4*(sin(q3(t))*cos(q2(t))*Derivative(q1(t), t) + cos(q3(t))*Derivative(q2(t), t) + Derivative(q4(t), t))*D.z"
            ],
            "text/latex": "$\\displaystyle L_{1} \\frac{d}{d t} q_{1}{\\left(t \\right)}\\mathbf{\\hat{a}_y} -  L_{2} \\cos{\\left(q_{2}{\\left(t \\right)} \\right)} \\frac{d}{d t} q_{1}{\\left(t \\right)}\\mathbf{\\hat{b}_x} -  L_{2} \\sin{\\left(q_{2}{\\left(t \\right)} \\right)} \\frac{d}{d t} q_{1}{\\left(t \\right)}\\mathbf{\\hat{b}_z} + L_{3} \\left(- \\sin{\\left(q_{3}{\\left(t \\right)} \\right)} \\frac{d}{d t} q_{2}{\\left(t \\right)} + \\cos{\\left(q_{2}{\\left(t \\right)} \\right)} \\cos{\\left(q_{3}{\\left(t \\right)} \\right)} \\frac{d}{d t} q_{1}{\\left(t \\right)}\\right)\\mathbf{\\hat{c}_y} -  L_{3} \\left(\\sin{\\left(q_{3}{\\left(t \\right)} \\right)} \\cos{\\left(q_{2}{\\left(t \\right)} \\right)} \\frac{d}{d t} q_{1}{\\left(t \\right)} + \\cos{\\left(q_{3}{\\left(t \\right)} \\right)} \\frac{d}{d t} q_{2}{\\left(t \\right)}\\right)\\mathbf{\\hat{c}_z} + L_{4} \\left(\\left(- \\sin{\\left(q_{2}{\\left(t \\right)} \\right)} \\sin{\\left(q_{4}{\\left(t \\right)} \\right)} + \\cos{\\left(q_{2}{\\left(t \\right)} \\right)} \\cos{\\left(q_{3}{\\left(t \\right)} \\right)} \\cos{\\left(q_{4}{\\left(t \\right)} \\right)}\\right) \\frac{d}{d t} q_{1}{\\left(t \\right)} - \\sin{\\left(q_{3}{\\left(t \\right)} \\right)} \\cos{\\left(q_{4}{\\left(t \\right)} \\right)} \\frac{d}{d t} q_{2}{\\left(t \\right)} + \\sin{\\left(q_{4}{\\left(t \\right)} \\right)} \\frac{d}{d t} q_{3}{\\left(t \\right)}\\right)\\mathbf{\\hat{d}_y} -  L_{4} \\left(\\sin{\\left(q_{3}{\\left(t \\right)} \\right)} \\cos{\\left(q_{2}{\\left(t \\right)} \\right)} \\frac{d}{d t} q_{1}{\\left(t \\right)} + \\cos{\\left(q_{3}{\\left(t \\right)} \\right)} \\frac{d}{d t} q_{2}{\\left(t \\right)} + \\frac{d}{d t} q_{4}{\\left(t \\right)}\\right)\\mathbf{\\hat{d}_z}$"
          },
          "metadata": {},
          "execution_count": 125
        }
      ]
    },
    {
      "cell_type": "code",
      "source": [
        "P4.acc(N)"
      ],
      "metadata": {
        "colab": {
          "base_uri": "https://localhost:8080/",
          "height": 586
        },
        "id": "vt5SpgcnnYU6",
        "outputId": "b4a7492b-2233-4700-e9f4-eedde6425ed5"
      },
      "execution_count": null,
      "outputs": [
        {
          "output_type": "execute_result",
          "data": {
            "text/plain": [
              "- L1*Derivative(q1(t), t)**2*A.x + L1*Derivative(q1(t), (t, 2))*A.y - L2*cos(q2(t))*Derivative(q1(t), (t, 2))*B.x + (-L2*sin(q2(t))**2*Derivative(q1(t), t)**2 - L2*cos(q2(t))**2*Derivative(q1(t), t)**2)*B.y - L2*sin(q2(t))*Derivative(q1(t), (t, 2))*B.z + (-L3*(-sin(q3(t))*Derivative(q2(t), t) + cos(q2(t))*cos(q3(t))*Derivative(q1(t), t))**2 - L3*(sin(q3(t))*cos(q2(t))*Derivative(q1(t), t) + cos(q3(t))*Derivative(q2(t), t))**2)*C.x + (L3*(-sin(q2(t))*Derivative(q1(t), t) + Derivative(q3(t), t))*(sin(q3(t))*cos(q2(t))*Derivative(q1(t), t) + cos(q3(t))*Derivative(q2(t), t)) + L3*(-sin(q2(t))*cos(q3(t))*Derivative(q1(t), t)*Derivative(q2(t), t) - sin(q3(t))*cos(q2(t))*Derivative(q1(t), t)*Derivative(q3(t), t) - sin(q3(t))*Derivative(q2(t), (t, 2)) + cos(q2(t))*cos(q3(t))*Derivative(q1(t), (t, 2)) - cos(q3(t))*Derivative(q2(t), t)*Derivative(q3(t), t)))*C.y + (L3*(-sin(q2(t))*Derivative(q1(t), t) + Derivative(q3(t), t))*(-sin(q3(t))*Derivative(q2(t), t) + cos(q2(t))*cos(q3(t))*Derivative(q1(t), t)) - L3*(-sin(q2(t))*sin(q3(t))*Derivative(q1(t), t)*Derivative(q2(t), t) + sin(q3(t))*cos(q2(t))*Derivative(q1(t), (t, 2)) - sin(q3(t))*Derivative(q2(t), t)*Derivative(q3(t), t) + cos(q2(t))*cos(q3(t))*Derivative(q1(t), t)*Derivative(q3(t), t) + cos(q3(t))*Derivative(q2(t), (t, 2))))*C.z + (-L4*((-sin(q2(t))*sin(q4(t)) + cos(q2(t))*cos(q3(t))*cos(q4(t)))*Derivative(q1(t), t) - sin(q3(t))*cos(q4(t))*Derivative(q2(t), t) + sin(q4(t))*Derivative(q3(t), t))**2 - L4*(sin(q3(t))*cos(q2(t))*Derivative(q1(t), t) + cos(q3(t))*Derivative(q2(t), t) + Derivative(q4(t), t))**2)*D.x + (L4*((-sin(q2(t))*cos(q4(t)) - sin(q4(t))*cos(q2(t))*cos(q3(t)))*Derivative(q1(t), t) + sin(q3(t))*sin(q4(t))*Derivative(q2(t), t) + cos(q4(t))*Derivative(q3(t), t))*(sin(q3(t))*cos(q2(t))*Derivative(q1(t), t) + cos(q3(t))*Derivative(q2(t), t) + Derivative(q4(t), t)) + L4*((-sin(q2(t))*sin(q4(t)) + cos(q2(t))*cos(q3(t))*cos(q4(t)))*Derivative(q1(t), (t, 2)) + (-sin(q2(t))*cos(q3(t))*cos(q4(t))*Derivative(q2(t), t) - sin(q2(t))*cos(q4(t))*Derivative(q4(t), t) - sin(q3(t))*cos(q2(t))*cos(q4(t))*Derivative(q3(t), t) - sin(q4(t))*cos(q2(t))*cos(q3(t))*Derivative(q4(t), t) - sin(q4(t))*cos(q2(t))*Derivative(q2(t), t))*Derivative(q1(t), t) + sin(q3(t))*sin(q4(t))*Derivative(q2(t), t)*Derivative(q4(t), t) - sin(q3(t))*cos(q4(t))*Derivative(q2(t), (t, 2)) + sin(q4(t))*Derivative(q3(t), (t, 2)) - cos(q3(t))*cos(q4(t))*Derivative(q2(t), t)*Derivative(q3(t), t) + cos(q4(t))*Derivative(q3(t), t)*Derivative(q4(t), t)))*D.y + (L4*((-sin(q2(t))*sin(q4(t)) + cos(q2(t))*cos(q3(t))*cos(q4(t)))*Derivative(q1(t), t) - sin(q3(t))*cos(q4(t))*Derivative(q2(t), t) + sin(q4(t))*Derivative(q3(t), t))*((-sin(q2(t))*cos(q4(t)) - sin(q4(t))*cos(q2(t))*cos(q3(t)))*Derivative(q1(t), t) + sin(q3(t))*sin(q4(t))*Derivative(q2(t), t) + cos(q4(t))*Derivative(q3(t), t)) - L4*(-sin(q2(t))*sin(q3(t))*Derivative(q1(t), t)*Derivative(q2(t), t) + sin(q3(t))*cos(q2(t))*Derivative(q1(t), (t, 2)) - sin(q3(t))*Derivative(q2(t), t)*Derivative(q3(t), t) + cos(q2(t))*cos(q3(t))*Derivative(q1(t), t)*Derivative(q3(t), t) + cos(q3(t))*Derivative(q2(t), (t, 2)) + Derivative(q4(t), (t, 2))))*D.z"
            ],
            "text/latex": "$\\displaystyle -  L_{1} \\left(\\frac{d}{d t} q_{1}{\\left(t \\right)}\\right)^{2}\\mathbf{\\hat{a}_x} + L_{1} \\frac{d^{2}}{d t^{2}} q_{1}{\\left(t \\right)}\\mathbf{\\hat{a}_y} -  L_{2} \\cos{\\left(q_{2}{\\left(t \\right)} \\right)} \\frac{d^{2}}{d t^{2}} q_{1}{\\left(t \\right)}\\mathbf{\\hat{b}_x} + (- L_{2} \\sin^{2}{\\left(q_{2}{\\left(t \\right)} \\right)} \\left(\\frac{d}{d t} q_{1}{\\left(t \\right)}\\right)^{2} - L_{2} \\cos^{2}{\\left(q_{2}{\\left(t \\right)} \\right)} \\left(\\frac{d}{d t} q_{1}{\\left(t \\right)}\\right)^{2})\\mathbf{\\hat{b}_y} -  L_{2} \\sin{\\left(q_{2}{\\left(t \\right)} \\right)} \\frac{d^{2}}{d t^{2}} q_{1}{\\left(t \\right)}\\mathbf{\\hat{b}_z} + (- L_{3} \\left(- \\sin{\\left(q_{3}{\\left(t \\right)} \\right)} \\frac{d}{d t} q_{2}{\\left(t \\right)} + \\cos{\\left(q_{2}{\\left(t \\right)} \\right)} \\cos{\\left(q_{3}{\\left(t \\right)} \\right)} \\frac{d}{d t} q_{1}{\\left(t \\right)}\\right)^{2} - L_{3} \\left(\\sin{\\left(q_{3}{\\left(t \\right)} \\right)} \\cos{\\left(q_{2}{\\left(t \\right)} \\right)} \\frac{d}{d t} q_{1}{\\left(t \\right)} + \\cos{\\left(q_{3}{\\left(t \\right)} \\right)} \\frac{d}{d t} q_{2}{\\left(t \\right)}\\right)^{2})\\mathbf{\\hat{c}_x} + (L_{3} \\left(- \\sin{\\left(q_{2}{\\left(t \\right)} \\right)} \\frac{d}{d t} q_{1}{\\left(t \\right)} + \\frac{d}{d t} q_{3}{\\left(t \\right)}\\right) \\left(\\sin{\\left(q_{3}{\\left(t \\right)} \\right)} \\cos{\\left(q_{2}{\\left(t \\right)} \\right)} \\frac{d}{d t} q_{1}{\\left(t \\right)} + \\cos{\\left(q_{3}{\\left(t \\right)} \\right)} \\frac{d}{d t} q_{2}{\\left(t \\right)}\\right) + L_{3} \\left(- \\sin{\\left(q_{2}{\\left(t \\right)} \\right)} \\cos{\\left(q_{3}{\\left(t \\right)} \\right)} \\frac{d}{d t} q_{1}{\\left(t \\right)} \\frac{d}{d t} q_{2}{\\left(t \\right)} - \\sin{\\left(q_{3}{\\left(t \\right)} \\right)} \\cos{\\left(q_{2}{\\left(t \\right)} \\right)} \\frac{d}{d t} q_{1}{\\left(t \\right)} \\frac{d}{d t} q_{3}{\\left(t \\right)} - \\sin{\\left(q_{3}{\\left(t \\right)} \\right)} \\frac{d^{2}}{d t^{2}} q_{2}{\\left(t \\right)} + \\cos{\\left(q_{2}{\\left(t \\right)} \\right)} \\cos{\\left(q_{3}{\\left(t \\right)} \\right)} \\frac{d^{2}}{d t^{2}} q_{1}{\\left(t \\right)} - \\cos{\\left(q_{3}{\\left(t \\right)} \\right)} \\frac{d}{d t} q_{2}{\\left(t \\right)} \\frac{d}{d t} q_{3}{\\left(t \\right)}\\right))\\mathbf{\\hat{c}_y} + (L_{3} \\left(- \\sin{\\left(q_{2}{\\left(t \\right)} \\right)} \\frac{d}{d t} q_{1}{\\left(t \\right)} + \\frac{d}{d t} q_{3}{\\left(t \\right)}\\right) \\left(- \\sin{\\left(q_{3}{\\left(t \\right)} \\right)} \\frac{d}{d t} q_{2}{\\left(t \\right)} + \\cos{\\left(q_{2}{\\left(t \\right)} \\right)} \\cos{\\left(q_{3}{\\left(t \\right)} \\right)} \\frac{d}{d t} q_{1}{\\left(t \\right)}\\right) - L_{3} \\left(- \\sin{\\left(q_{2}{\\left(t \\right)} \\right)} \\sin{\\left(q_{3}{\\left(t \\right)} \\right)} \\frac{d}{d t} q_{1}{\\left(t \\right)} \\frac{d}{d t} q_{2}{\\left(t \\right)} + \\sin{\\left(q_{3}{\\left(t \\right)} \\right)} \\cos{\\left(q_{2}{\\left(t \\right)} \\right)} \\frac{d^{2}}{d t^{2}} q_{1}{\\left(t \\right)} - \\sin{\\left(q_{3}{\\left(t \\right)} \\right)} \\frac{d}{d t} q_{2}{\\left(t \\right)} \\frac{d}{d t} q_{3}{\\left(t \\right)} + \\cos{\\left(q_{2}{\\left(t \\right)} \\right)} \\cos{\\left(q_{3}{\\left(t \\right)} \\right)} \\frac{d}{d t} q_{1}{\\left(t \\right)} \\frac{d}{d t} q_{3}{\\left(t \\right)} + \\cos{\\left(q_{3}{\\left(t \\right)} \\right)} \\frac{d^{2}}{d t^{2}} q_{2}{\\left(t \\right)}\\right))\\mathbf{\\hat{c}_z} + (- L_{4} \\left(\\left(- \\sin{\\left(q_{2}{\\left(t \\right)} \\right)} \\sin{\\left(q_{4}{\\left(t \\right)} \\right)} + \\cos{\\left(q_{2}{\\left(t \\right)} \\right)} \\cos{\\left(q_{3}{\\left(t \\right)} \\right)} \\cos{\\left(q_{4}{\\left(t \\right)} \\right)}\\right) \\frac{d}{d t} q_{1}{\\left(t \\right)} - \\sin{\\left(q_{3}{\\left(t \\right)} \\right)} \\cos{\\left(q_{4}{\\left(t \\right)} \\right)} \\frac{d}{d t} q_{2}{\\left(t \\right)} + \\sin{\\left(q_{4}{\\left(t \\right)} \\right)} \\frac{d}{d t} q_{3}{\\left(t \\right)}\\right)^{2} - L_{4} \\left(\\sin{\\left(q_{3}{\\left(t \\right)} \\right)} \\cos{\\left(q_{2}{\\left(t \\right)} \\right)} \\frac{d}{d t} q_{1}{\\left(t \\right)} + \\cos{\\left(q_{3}{\\left(t \\right)} \\right)} \\frac{d}{d t} q_{2}{\\left(t \\right)} + \\frac{d}{d t} q_{4}{\\left(t \\right)}\\right)^{2})\\mathbf{\\hat{d}_x} + (L_{4} \\left(\\left(- \\sin{\\left(q_{2}{\\left(t \\right)} \\right)} \\cos{\\left(q_{4}{\\left(t \\right)} \\right)} - \\sin{\\left(q_{4}{\\left(t \\right)} \\right)} \\cos{\\left(q_{2}{\\left(t \\right)} \\right)} \\cos{\\left(q_{3}{\\left(t \\right)} \\right)}\\right) \\frac{d}{d t} q_{1}{\\left(t \\right)} + \\sin{\\left(q_{3}{\\left(t \\right)} \\right)} \\sin{\\left(q_{4}{\\left(t \\right)} \\right)} \\frac{d}{d t} q_{2}{\\left(t \\right)} + \\cos{\\left(q_{4}{\\left(t \\right)} \\right)} \\frac{d}{d t} q_{3}{\\left(t \\right)}\\right) \\left(\\sin{\\left(q_{3}{\\left(t \\right)} \\right)} \\cos{\\left(q_{2}{\\left(t \\right)} \\right)} \\frac{d}{d t} q_{1}{\\left(t \\right)} + \\cos{\\left(q_{3}{\\left(t \\right)} \\right)} \\frac{d}{d t} q_{2}{\\left(t \\right)} + \\frac{d}{d t} q_{4}{\\left(t \\right)}\\right) + L_{4} \\left(\\left(- \\sin{\\left(q_{2}{\\left(t \\right)} \\right)} \\sin{\\left(q_{4}{\\left(t \\right)} \\right)} + \\cos{\\left(q_{2}{\\left(t \\right)} \\right)} \\cos{\\left(q_{3}{\\left(t \\right)} \\right)} \\cos{\\left(q_{4}{\\left(t \\right)} \\right)}\\right) \\frac{d^{2}}{d t^{2}} q_{1}{\\left(t \\right)} + \\left(- \\sin{\\left(q_{2}{\\left(t \\right)} \\right)} \\cos{\\left(q_{3}{\\left(t \\right)} \\right)} \\cos{\\left(q_{4}{\\left(t \\right)} \\right)} \\frac{d}{d t} q_{2}{\\left(t \\right)} - \\sin{\\left(q_{2}{\\left(t \\right)} \\right)} \\cos{\\left(q_{4}{\\left(t \\right)} \\right)} \\frac{d}{d t} q_{4}{\\left(t \\right)} - \\sin{\\left(q_{3}{\\left(t \\right)} \\right)} \\cos{\\left(q_{2}{\\left(t \\right)} \\right)} \\cos{\\left(q_{4}{\\left(t \\right)} \\right)} \\frac{d}{d t} q_{3}{\\left(t \\right)} - \\sin{\\left(q_{4}{\\left(t \\right)} \\right)} \\cos{\\left(q_{2}{\\left(t \\right)} \\right)} \\cos{\\left(q_{3}{\\left(t \\right)} \\right)} \\frac{d}{d t} q_{4}{\\left(t \\right)} - \\sin{\\left(q_{4}{\\left(t \\right)} \\right)} \\cos{\\left(q_{2}{\\left(t \\right)} \\right)} \\frac{d}{d t} q_{2}{\\left(t \\right)}\\right) \\frac{d}{d t} q_{1}{\\left(t \\right)} + \\sin{\\left(q_{3}{\\left(t \\right)} \\right)} \\sin{\\left(q_{4}{\\left(t \\right)} \\right)} \\frac{d}{d t} q_{2}{\\left(t \\right)} \\frac{d}{d t} q_{4}{\\left(t \\right)} - \\sin{\\left(q_{3}{\\left(t \\right)} \\right)} \\cos{\\left(q_{4}{\\left(t \\right)} \\right)} \\frac{d^{2}}{d t^{2}} q_{2}{\\left(t \\right)} + \\sin{\\left(q_{4}{\\left(t \\right)} \\right)} \\frac{d^{2}}{d t^{2}} q_{3}{\\left(t \\right)} - \\cos{\\left(q_{3}{\\left(t \\right)} \\right)} \\cos{\\left(q_{4}{\\left(t \\right)} \\right)} \\frac{d}{d t} q_{2}{\\left(t \\right)} \\frac{d}{d t} q_{3}{\\left(t \\right)} + \\cos{\\left(q_{4}{\\left(t \\right)} \\right)} \\frac{d}{d t} q_{3}{\\left(t \\right)} \\frac{d}{d t} q_{4}{\\left(t \\right)}\\right))\\mathbf{\\hat{d}_y} + (L_{4} \\left(\\left(- \\sin{\\left(q_{2}{\\left(t \\right)} \\right)} \\sin{\\left(q_{4}{\\left(t \\right)} \\right)} + \\cos{\\left(q_{2}{\\left(t \\right)} \\right)} \\cos{\\left(q_{3}{\\left(t \\right)} \\right)} \\cos{\\left(q_{4}{\\left(t \\right)} \\right)}\\right) \\frac{d}{d t} q_{1}{\\left(t \\right)} - \\sin{\\left(q_{3}{\\left(t \\right)} \\right)} \\cos{\\left(q_{4}{\\left(t \\right)} \\right)} \\frac{d}{d t} q_{2}{\\left(t \\right)} + \\sin{\\left(q_{4}{\\left(t \\right)} \\right)} \\frac{d}{d t} q_{3}{\\left(t \\right)}\\right) \\left(\\left(- \\sin{\\left(q_{2}{\\left(t \\right)} \\right)} \\cos{\\left(q_{4}{\\left(t \\right)} \\right)} - \\sin{\\left(q_{4}{\\left(t \\right)} \\right)} \\cos{\\left(q_{2}{\\left(t \\right)} \\right)} \\cos{\\left(q_{3}{\\left(t \\right)} \\right)}\\right) \\frac{d}{d t} q_{1}{\\left(t \\right)} + \\sin{\\left(q_{3}{\\left(t \\right)} \\right)} \\sin{\\left(q_{4}{\\left(t \\right)} \\right)} \\frac{d}{d t} q_{2}{\\left(t \\right)} + \\cos{\\left(q_{4}{\\left(t \\right)} \\right)} \\frac{d}{d t} q_{3}{\\left(t \\right)}\\right) - L_{4} \\left(- \\sin{\\left(q_{2}{\\left(t \\right)} \\right)} \\sin{\\left(q_{3}{\\left(t \\right)} \\right)} \\frac{d}{d t} q_{1}{\\left(t \\right)} \\frac{d}{d t} q_{2}{\\left(t \\right)} + \\sin{\\left(q_{3}{\\left(t \\right)} \\right)} \\cos{\\left(q_{2}{\\left(t \\right)} \\right)} \\frac{d^{2}}{d t^{2}} q_{1}{\\left(t \\right)} - \\sin{\\left(q_{3}{\\left(t \\right)} \\right)} \\frac{d}{d t} q_{2}{\\left(t \\right)} \\frac{d}{d t} q_{3}{\\left(t \\right)} + \\cos{\\left(q_{2}{\\left(t \\right)} \\right)} \\cos{\\left(q_{3}{\\left(t \\right)} \\right)} \\frac{d}{d t} q_{1}{\\left(t \\right)} \\frac{d}{d t} q_{3}{\\left(t \\right)} + \\cos{\\left(q_{3}{\\left(t \\right)} \\right)} \\frac{d^{2}}{d t^{2}} q_{2}{\\left(t \\right)} + \\frac{d^{2}}{d t^{2}} q_{4}{\\left(t \\right)}\\right))\\mathbf{\\hat{d}_z}$"
          },
          "metadata": {},
          "execution_count": 126
        }
      ]
    },
    {
      "cell_type": "code",
      "source": [],
      "metadata": {
        "id": "nWBnHsr5lhim"
      },
      "execution_count": null,
      "outputs": []
    }
  ]
}