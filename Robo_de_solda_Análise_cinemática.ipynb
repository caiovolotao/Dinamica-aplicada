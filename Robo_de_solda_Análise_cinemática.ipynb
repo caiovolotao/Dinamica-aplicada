{
  "nbformat": 4,
  "nbformat_minor": 0,
  "metadata": {
    "colab": {
      "provenance": [],
      "authorship_tag": "ABX9TyPbrMSVHHcKOhQOHcTjVvVx",
      "include_colab_link": true
    },
    "kernelspec": {
      "name": "python3",
      "display_name": "Python 3"
    },
    "language_info": {
      "name": "python"
    }
  },
  "cells": [
    {
      "cell_type": "markdown",
      "metadata": {
        "id": "view-in-github",
        "colab_type": "text"
      },
      "source": [
        "<a href=\"https://colab.research.google.com/github/caiovolotao/Dinamica-das-maquinas/blob/main/Robo_de_solda_An%C3%A1lise_cinem%C3%A1tica.ipynb\" target=\"_parent\"><img src=\"https://colab.research.google.com/assets/colab-badge.svg\" alt=\"Open In Colab\"/></a>"
      ]
    },
    {
      "cell_type": "code",
      "execution_count": 6,
      "metadata": {
        "id": "UK6SctKjKLC1"
      },
      "outputs": [],
      "source": [
        "import sympy.physics.mechanics as me\n",
        "import sympy as sy\n"
      ]
    },
    {
      "cell_type": "code",
      "source": [
        "N = me.ReferenceFrame ('N') #referencial inercial\n",
        "A = me.ReferenceFrame ('A') #Elo1\n",
        "B = me.ReferenceFrame ('B') #Elo2\n",
        "C = me.ReferenceFrame ('C') #Elo3"
      ],
      "metadata": {
        "id": "NQ3ABgsLLC3q"
      },
      "execution_count": 7,
      "outputs": []
    },
    {
      "cell_type": "code",
      "source": [
        "# Definindo as variaveis \n",
        "L1, L2, L3, L4 = sy.symbols ('L_1 L_2 L_3 L_4') #Não varia c/ tempo\n",
        "q1, q2, q3 = me.dynamicsymbols('q1 q2 q3') #Variavel c/ tempo\n",
        "t = me.dynamicsymbols._t"
      ],
      "metadata": {
        "id": "234t9t0WLDXa"
      },
      "execution_count": 8,
      "outputs": []
    },
    {
      "cell_type": "code",
      "source": [
        "#Determinando as orientações\n",
        "A.orient(N, 'Axis',[q1,N.z]) #Estabelecendo a razão entre ref. e o ponto A\n",
        "B.orient(A, 'Axis',[q2,A.y]) \n",
        "C.orient(B, 'Axis',[q3,B.y])"
      ],
      "metadata": {
        "id": "NYmBD1-NL1Y-"
      },
      "execution_count": 9,
      "outputs": []
    },
    {
      "cell_type": "code",
      "source": [
        "A.ang_vel_in(N)\n"
      ],
      "metadata": {
        "colab": {
          "base_uri": "https://localhost:8080/",
          "height": 52
        },
        "id": "lKX-2VsuL4LI",
        "outputId": "907b8032-f2ff-457c-8edb-a6cf0179a339"
      },
      "execution_count": 10,
      "outputs": [
        {
          "output_type": "execute_result",
          "data": {
            "text/plain": [
              "Derivative(q1(t), t)*N.z"
            ],
            "text/latex": "$\\displaystyle \\frac{d}{d t} q_{1}{\\left(t \\right)}\\mathbf{\\hat{n}_z}$"
          },
          "metadata": {},
          "execution_count": 10
        }
      ]
    },
    {
      "cell_type": "code",
      "source": [
        "A.ang_acc_in(N)"
      ],
      "metadata": {
        "colab": {
          "base_uri": "https://localhost:8080/",
          "height": 54
        },
        "id": "INXhuW_QL8ij",
        "outputId": "ccc8b7ca-c73e-4eb1-b623-37bb758e1616"
      },
      "execution_count": 11,
      "outputs": [
        {
          "output_type": "execute_result",
          "data": {
            "text/plain": [
              "Derivative(q1(t), (t, 2))*N.z"
            ],
            "text/latex": "$\\displaystyle \\frac{d^{2}}{d t^{2}} q_{1}{\\left(t \\right)}\\mathbf{\\hat{n}_z}$"
          },
          "metadata": {},
          "execution_count": 11
        }
      ]
    },
    {
      "cell_type": "code",
      "source": [
        "B.ang_vel_in(N)\n"
      ],
      "metadata": {
        "colab": {
          "base_uri": "https://localhost:8080/",
          "height": 52
        },
        "id": "Yux174vaL-Gj",
        "outputId": "53d7cd74-6ba1-4f3a-c118-00a9c126d4fc"
      },
      "execution_count": 12,
      "outputs": [
        {
          "output_type": "execute_result",
          "data": {
            "text/plain": [
              "Derivative(q1(t), t)*N.z + Derivative(q2(t), t)*A.y"
            ],
            "text/latex": "$\\displaystyle \\frac{d}{d t} q_{2}{\\left(t \\right)}\\mathbf{\\hat{a}_y} + \\frac{d}{d t} q_{1}{\\left(t \\right)}\\mathbf{\\hat{n}_z}$"
          },
          "metadata": {},
          "execution_count": 12
        }
      ]
    },
    {
      "cell_type": "code",
      "source": [
        "B.ang_acc_in(N)\n"
      ],
      "metadata": {
        "colab": {
          "base_uri": "https://localhost:8080/",
          "height": 54
        },
        "id": "Aw7IBUphL_jz",
        "outputId": "71003eae-8205-4c46-8fee-7fba0fecf6f2"
      },
      "execution_count": 13,
      "outputs": [
        {
          "output_type": "execute_result",
          "data": {
            "text/plain": [
              "Derivative(q1(t), (t, 2))*N.z - Derivative(q1(t), t)*Derivative(q2(t), t)*A.x + Derivative(q2(t), (t, 2))*A.y"
            ],
            "text/latex": "$\\displaystyle -  \\frac{d}{d t} q_{1}{\\left(t \\right)} \\frac{d}{d t} q_{2}{\\left(t \\right)}\\mathbf{\\hat{a}_x} + \\frac{d^{2}}{d t^{2}} q_{2}{\\left(t \\right)}\\mathbf{\\hat{a}_y} + \\frac{d^{2}}{d t^{2}} q_{1}{\\left(t \\right)}\\mathbf{\\hat{n}_z}$"
          },
          "metadata": {},
          "execution_count": 13
        }
      ]
    },
    {
      "cell_type": "code",
      "source": [
        "C.ang_vel_in(N)\n"
      ],
      "metadata": {
        "colab": {
          "base_uri": "https://localhost:8080/",
          "height": 52
        },
        "id": "602-7lL3MBKu",
        "outputId": "4cf76403-5a13-410d-dcd8-15967b317a4a"
      },
      "execution_count": 14,
      "outputs": [
        {
          "output_type": "execute_result",
          "data": {
            "text/plain": [
              "Derivative(q1(t), t)*N.z + Derivative(q2(t), t)*A.y + Derivative(q3(t), t)*B.y"
            ],
            "text/latex": "$\\displaystyle \\frac{d}{d t} q_{3}{\\left(t \\right)}\\mathbf{\\hat{b}_y} + \\frac{d}{d t} q_{2}{\\left(t \\right)}\\mathbf{\\hat{a}_y} + \\frac{d}{d t} q_{1}{\\left(t \\right)}\\mathbf{\\hat{n}_z}$"
          },
          "metadata": {},
          "execution_count": 14
        }
      ]
    },
    {
      "cell_type": "code",
      "source": [
        "\n",
        "C.ang_acc_in(N)\n"
      ],
      "metadata": {
        "colab": {
          "base_uri": "https://localhost:8080/",
          "height": 54
        },
        "id": "YYYQBkK1MDZL",
        "outputId": "8372a147-46fc-412b-8bcf-f92e941d43a9"
      },
      "execution_count": 15,
      "outputs": [
        {
          "output_type": "execute_result",
          "data": {
            "text/plain": [
              "Derivative(q1(t), (t, 2))*N.z - Derivative(q1(t), t)*Derivative(q2(t), t)*A.x + Derivative(q2(t), (t, 2))*A.y - cos(q2(t))*Derivative(q1(t), t)*Derivative(q3(t), t)*B.x + Derivative(q3(t), (t, 2))*B.y - sin(q2(t))*Derivative(q1(t), t)*Derivative(q3(t), t)*B.z"
            ],
            "text/latex": "$\\displaystyle -  \\cos{\\left(q_{2}{\\left(t \\right)} \\right)} \\frac{d}{d t} q_{1}{\\left(t \\right)} \\frac{d}{d t} q_{3}{\\left(t \\right)}\\mathbf{\\hat{b}_x} + \\frac{d^{2}}{d t^{2}} q_{3}{\\left(t \\right)}\\mathbf{\\hat{b}_y} -  \\sin{\\left(q_{2}{\\left(t \\right)} \\right)} \\frac{d}{d t} q_{1}{\\left(t \\right)} \\frac{d}{d t} q_{3}{\\left(t \\right)}\\mathbf{\\hat{b}_z} -  \\frac{d}{d t} q_{1}{\\left(t \\right)} \\frac{d}{d t} q_{2}{\\left(t \\right)}\\mathbf{\\hat{a}_x} + \\frac{d^{2}}{d t^{2}} q_{2}{\\left(t \\right)}\\mathbf{\\hat{a}_y} + \\frac{d^{2}}{d t^{2}} q_{1}{\\left(t \\right)}\\mathbf{\\hat{n}_z}$"
          },
          "metadata": {},
          "execution_count": 15
        }
      ]
    },
    {
      "cell_type": "code",
      "source": [
        "#Analise de posição\n",
        "\n",
        "O = me.Point('O')\n",
        "O.set_vel(A,0)"
      ],
      "metadata": {
        "id": "XztuWsbwMFxH"
      },
      "execution_count": 16,
      "outputs": []
    },
    {
      "cell_type": "code",
      "source": [
        "P = me.Point ('P')\n",
        "pRO = L1*A.z + L2*A.y\n",
        "P.set_pos(O, pRO)\n",
        "P.set_vel(N,P.pos_from(O).dt(N))\n",
        "P.vel(N)"
      ],
      "metadata": {
        "colab": {
          "base_uri": "https://localhost:8080/",
          "height": 52
        },
        "id": "0UTPNuLUMNAx",
        "outputId": "28d0360a-3181-4d33-f172-fa270efc9515"
      },
      "execution_count": 17,
      "outputs": [
        {
          "output_type": "execute_result",
          "data": {
            "text/plain": [
              "- L_2*Derivative(q1(t), t)*A.x"
            ],
            "text/latex": "$\\displaystyle -  L_{2} \\frac{d}{d t} q_{1}{\\left(t \\right)}\\mathbf{\\hat{a}_x}$"
          },
          "metadata": {},
          "execution_count": 17
        }
      ]
    },
    {
      "cell_type": "code",
      "source": [
        "P.acc(N)\n"
      ],
      "metadata": {
        "colab": {
          "base_uri": "https://localhost:8080/",
          "height": 61
        },
        "id": "PiWCobL3MaYH",
        "outputId": "eca2bf57-fa0b-4602-93a1-189335184fdd"
      },
      "execution_count": 20,
      "outputs": [
        {
          "output_type": "execute_result",
          "data": {
            "text/plain": [
              "- L_2*Derivative(q1(t), (t, 2))*A.x - L_2*Derivative(q1(t), t)**2*A.y"
            ],
            "text/latex": "$\\displaystyle -  L_{2} \\frac{d^{2}}{d t^{2}} q_{1}{\\left(t \\right)}\\mathbf{\\hat{a}_x} -  L_{2} \\left(\\frac{d}{d t} q_{1}{\\left(t \\right)}\\right)^{2}\\mathbf{\\hat{a}_y}$"
          },
          "metadata": {},
          "execution_count": 20
        }
      ]
    },
    {
      "cell_type": "code",
      "source": [
        "P2 = me.Point ('P2')\n",
        "pP2_P = L3*B.x\n",
        "P2.set_pos(P, pP2_P)\n",
        "P2.set_vel(N,P2.pos_from(O).dt(N))\n",
        "P2.vel(N)"
      ],
      "metadata": {
        "colab": {
          "base_uri": "https://localhost:8080/",
          "height": 52
        },
        "id": "S5BDr3evMPtk",
        "outputId": "b488d4f2-3105-4c48-ed21-8987d000d7a6"
      },
      "execution_count": 18,
      "outputs": [
        {
          "output_type": "execute_result",
          "data": {
            "text/plain": [
              "- L_2*Derivative(q1(t), t)*A.x + L_3*cos(q2(t))*Derivative(q1(t), t)*B.y - L_3*Derivative(q2(t), t)*B.z"
            ],
            "text/latex": "$\\displaystyle L_{3} \\cos{\\left(q_{2}{\\left(t \\right)} \\right)} \\frac{d}{d t} q_{1}{\\left(t \\right)}\\mathbf{\\hat{b}_y} -  L_{3} \\frac{d}{d t} q_{2}{\\left(t \\right)}\\mathbf{\\hat{b}_z} -  L_{2} \\frac{d}{d t} q_{1}{\\left(t \\right)}\\mathbf{\\hat{a}_x}$"
          },
          "metadata": {},
          "execution_count": 18
        }
      ]
    },
    {
      "cell_type": "code",
      "source": [
        "P2.acc(N)\n"
      ],
      "metadata": {
        "colab": {
          "base_uri": "https://localhost:8080/",
          "height": 105
        },
        "id": "Ke4BQXSEMeBZ",
        "outputId": "442b82fa-e897-4c50-88a0-1073906ac1e3"
      },
      "execution_count": 21,
      "outputs": [
        {
          "output_type": "execute_result",
          "data": {
            "text/plain": [
              "- L_2*Derivative(q1(t), (t, 2))*A.x - L_2*Derivative(q1(t), t)**2*A.y + (-L_3*cos(q2(t))**2*Derivative(q1(t), t)**2 - L_3*Derivative(q2(t), t)**2)*B.x + (-2*L_3*sin(q2(t))*Derivative(q1(t), t)*Derivative(q2(t), t) + L_3*cos(q2(t))*Derivative(q1(t), (t, 2)))*B.y + (-L_3*sin(q2(t))*cos(q2(t))*Derivative(q1(t), t)**2 - L_3*Derivative(q2(t), (t, 2)))*B.z"
            ],
            "text/latex": "$\\displaystyle (- L_{3} \\cos^{2}{\\left(q_{2}{\\left(t \\right)} \\right)} \\left(\\frac{d}{d t} q_{1}{\\left(t \\right)}\\right)^{2} - L_{3} \\left(\\frac{d}{d t} q_{2}{\\left(t \\right)}\\right)^{2})\\mathbf{\\hat{b}_x} + (- 2 L_{3} \\sin{\\left(q_{2}{\\left(t \\right)} \\right)} \\frac{d}{d t} q_{1}{\\left(t \\right)} \\frac{d}{d t} q_{2}{\\left(t \\right)} + L_{3} \\cos{\\left(q_{2}{\\left(t \\right)} \\right)} \\frac{d^{2}}{d t^{2}} q_{1}{\\left(t \\right)})\\mathbf{\\hat{b}_y} + (- L_{3} \\sin{\\left(q_{2}{\\left(t \\right)} \\right)} \\cos{\\left(q_{2}{\\left(t \\right)} \\right)} \\left(\\frac{d}{d t} q_{1}{\\left(t \\right)}\\right)^{2} - L_{3} \\frac{d^{2}}{d t^{2}} q_{2}{\\left(t \\right)})\\mathbf{\\hat{b}_z} -  L_{2} \\frac{d^{2}}{d t^{2}} q_{1}{\\left(t \\right)}\\mathbf{\\hat{a}_x} -  L_{2} \\left(\\frac{d}{d t} q_{1}{\\left(t \\right)}\\right)^{2}\\mathbf{\\hat{a}_y}$"
          },
          "metadata": {},
          "execution_count": 21
        }
      ]
    },
    {
      "cell_type": "code",
      "source": [
        "P3 = me.Point ('P3')\n",
        "pP3 = L4*C.x \n",
        "P3.set_pos(P2, pP3)\n",
        "P3.set_vel(N,P3.pos_from(O).dt(N))\n",
        "P3.vel(N)"
      ],
      "metadata": {
        "colab": {
          "base_uri": "https://localhost:8080/",
          "height": 93
        },
        "id": "kkUBofw0MRTx",
        "outputId": "7138adc2-ab88-4bd8-b009-749e6f26f29f"
      },
      "execution_count": 19,
      "outputs": [
        {
          "output_type": "execute_result",
          "data": {
            "text/plain": [
              "- L_2*Derivative(q1(t), t)*A.x + L_3*cos(q2(t))*Derivative(q1(t), t)*B.y - L_3*Derivative(q2(t), t)*B.z + L_4*(-sin(q2(t))*sin(q3(t)) + cos(q2(t))*cos(q3(t)))*Derivative(q1(t), t)*C.y - L_4*(Derivative(q2(t), t) + Derivative(q3(t), t))*C.z"
            ],
            "text/latex": "$\\displaystyle L_{4} \\left(- \\sin{\\left(q_{2}{\\left(t \\right)} \\right)} \\sin{\\left(q_{3}{\\left(t \\right)} \\right)} + \\cos{\\left(q_{2}{\\left(t \\right)} \\right)} \\cos{\\left(q_{3}{\\left(t \\right)} \\right)}\\right) \\frac{d}{d t} q_{1}{\\left(t \\right)}\\mathbf{\\hat{c}_y} -  L_{4} \\left(\\frac{d}{d t} q_{2}{\\left(t \\right)} + \\frac{d}{d t} q_{3}{\\left(t \\right)}\\right)\\mathbf{\\hat{c}_z} + L_{3} \\cos{\\left(q_{2}{\\left(t \\right)} \\right)} \\frac{d}{d t} q_{1}{\\left(t \\right)}\\mathbf{\\hat{b}_y} -  L_{3} \\frac{d}{d t} q_{2}{\\left(t \\right)}\\mathbf{\\hat{b}_z} -  L_{2} \\frac{d}{d t} q_{1}{\\left(t \\right)}\\mathbf{\\hat{a}_x}$"
          },
          "metadata": {},
          "execution_count": 19
        }
      ]
    },
    {
      "cell_type": "code",
      "source": [
        "P3.acc(N)\n"
      ],
      "metadata": {
        "colab": {
          "base_uri": "https://localhost:8080/",
          "height": 312
        },
        "id": "rPXua1O8Mgx_",
        "outputId": "d186e414-1f46-4f43-a3ad-7fd11e2242d6"
      },
      "execution_count": 22,
      "outputs": [
        {
          "output_type": "execute_result",
          "data": {
            "text/plain": [
              "- L_2*Derivative(q1(t), (t, 2))*A.x - L_2*Derivative(q1(t), t)**2*A.y + (-L_3*cos(q2(t))**2*Derivative(q1(t), t)**2 - L_3*Derivative(q2(t), t)**2)*B.x + (-2*L_3*sin(q2(t))*Derivative(q1(t), t)*Derivative(q2(t), t) + L_3*cos(q2(t))*Derivative(q1(t), (t, 2)))*B.y + (-L_3*sin(q2(t))*cos(q2(t))*Derivative(q1(t), t)**2 - L_3*Derivative(q2(t), (t, 2)))*B.z + (-L_4*(-sin(q2(t))*sin(q3(t)) + cos(q2(t))*cos(q3(t)))**2*Derivative(q1(t), t)**2 - L_4*(Derivative(q2(t), t) + Derivative(q3(t), t))**2)*C.x + (L_4*(-sin(q2(t))*sin(q3(t)) + cos(q2(t))*cos(q3(t)))*Derivative(q1(t), (t, 2)) + L_4*(-sin(q2(t))*cos(q3(t)) - sin(q3(t))*cos(q2(t)))*(Derivative(q2(t), t) + Derivative(q3(t), t))*Derivative(q1(t), t) + L_4*(-sin(q2(t))*cos(q3(t))*Derivative(q2(t), t) - sin(q2(t))*cos(q3(t))*Derivative(q3(t), t) - sin(q3(t))*cos(q2(t))*Derivative(q2(t), t) - sin(q3(t))*cos(q2(t))*Derivative(q3(t), t))*Derivative(q1(t), t))*C.y + (L_4*(-sin(q2(t))*sin(q3(t)) + cos(q2(t))*cos(q3(t)))*(-sin(q2(t))*cos(q3(t)) - sin(q3(t))*cos(q2(t)))*Derivative(q1(t), t)**2 - L_4*(Derivative(q2(t), (t, 2)) + Derivative(q3(t), (t, 2))))*C.z"
            ],
            "text/latex": "$\\displaystyle (- L_{4} \\left(- \\sin{\\left(q_{2}{\\left(t \\right)} \\right)} \\sin{\\left(q_{3}{\\left(t \\right)} \\right)} + \\cos{\\left(q_{2}{\\left(t \\right)} \\right)} \\cos{\\left(q_{3}{\\left(t \\right)} \\right)}\\right)^{2} \\left(\\frac{d}{d t} q_{1}{\\left(t \\right)}\\right)^{2} - L_{4} \\left(\\frac{d}{d t} q_{2}{\\left(t \\right)} + \\frac{d}{d t} q_{3}{\\left(t \\right)}\\right)^{2})\\mathbf{\\hat{c}_x} + (L_{4} \\left(- \\sin{\\left(q_{2}{\\left(t \\right)} \\right)} \\sin{\\left(q_{3}{\\left(t \\right)} \\right)} + \\cos{\\left(q_{2}{\\left(t \\right)} \\right)} \\cos{\\left(q_{3}{\\left(t \\right)} \\right)}\\right) \\frac{d^{2}}{d t^{2}} q_{1}{\\left(t \\right)} + L_{4} \\left(- \\sin{\\left(q_{2}{\\left(t \\right)} \\right)} \\cos{\\left(q_{3}{\\left(t \\right)} \\right)} - \\sin{\\left(q_{3}{\\left(t \\right)} \\right)} \\cos{\\left(q_{2}{\\left(t \\right)} \\right)}\\right) \\left(\\frac{d}{d t} q_{2}{\\left(t \\right)} + \\frac{d}{d t} q_{3}{\\left(t \\right)}\\right) \\frac{d}{d t} q_{1}{\\left(t \\right)} + L_{4} \\left(- \\sin{\\left(q_{2}{\\left(t \\right)} \\right)} \\cos{\\left(q_{3}{\\left(t \\right)} \\right)} \\frac{d}{d t} q_{2}{\\left(t \\right)} - \\sin{\\left(q_{2}{\\left(t \\right)} \\right)} \\cos{\\left(q_{3}{\\left(t \\right)} \\right)} \\frac{d}{d t} q_{3}{\\left(t \\right)} - \\sin{\\left(q_{3}{\\left(t \\right)} \\right)} \\cos{\\left(q_{2}{\\left(t \\right)} \\right)} \\frac{d}{d t} q_{2}{\\left(t \\right)} - \\sin{\\left(q_{3}{\\left(t \\right)} \\right)} \\cos{\\left(q_{2}{\\left(t \\right)} \\right)} \\frac{d}{d t} q_{3}{\\left(t \\right)}\\right) \\frac{d}{d t} q_{1}{\\left(t \\right)})\\mathbf{\\hat{c}_y} + (L_{4} \\left(- \\sin{\\left(q_{2}{\\left(t \\right)} \\right)} \\sin{\\left(q_{3}{\\left(t \\right)} \\right)} + \\cos{\\left(q_{2}{\\left(t \\right)} \\right)} \\cos{\\left(q_{3}{\\left(t \\right)} \\right)}\\right) \\left(- \\sin{\\left(q_{2}{\\left(t \\right)} \\right)} \\cos{\\left(q_{3}{\\left(t \\right)} \\right)} - \\sin{\\left(q_{3}{\\left(t \\right)} \\right)} \\cos{\\left(q_{2}{\\left(t \\right)} \\right)}\\right) \\left(\\frac{d}{d t} q_{1}{\\left(t \\right)}\\right)^{2} - L_{4} \\left(\\frac{d^{2}}{d t^{2}} q_{2}{\\left(t \\right)} + \\frac{d^{2}}{d t^{2}} q_{3}{\\left(t \\right)}\\right))\\mathbf{\\hat{c}_z} + (- L_{3} \\cos^{2}{\\left(q_{2}{\\left(t \\right)} \\right)} \\left(\\frac{d}{d t} q_{1}{\\left(t \\right)}\\right)^{2} - L_{3} \\left(\\frac{d}{d t} q_{2}{\\left(t \\right)}\\right)^{2})\\mathbf{\\hat{b}_x} + (- 2 L_{3} \\sin{\\left(q_{2}{\\left(t \\right)} \\right)} \\frac{d}{d t} q_{1}{\\left(t \\right)} \\frac{d}{d t} q_{2}{\\left(t \\right)} + L_{3} \\cos{\\left(q_{2}{\\left(t \\right)} \\right)} \\frac{d^{2}}{d t^{2}} q_{1}{\\left(t \\right)})\\mathbf{\\hat{b}_y} + (- L_{3} \\sin{\\left(q_{2}{\\left(t \\right)} \\right)} \\cos{\\left(q_{2}{\\left(t \\right)} \\right)} \\left(\\frac{d}{d t} q_{1}{\\left(t \\right)}\\right)^{2} - L_{3} \\frac{d^{2}}{d t^{2}} q_{2}{\\left(t \\right)})\\mathbf{\\hat{b}_z} -  L_{2} \\frac{d^{2}}{d t^{2}} q_{1}{\\left(t \\right)}\\mathbf{\\hat{a}_x} -  L_{2} \\left(\\frac{d}{d t} q_{1}{\\left(t \\right)}\\right)^{2}\\mathbf{\\hat{a}_y}$"
          },
          "metadata": {},
          "execution_count": 22
        }
      ]
    },
    {
      "cell_type": "code",
      "source": [],
      "metadata": {
        "id": "Y1Tm_7xPMUEI"
      },
      "execution_count": null,
      "outputs": []
    }
  ]
}